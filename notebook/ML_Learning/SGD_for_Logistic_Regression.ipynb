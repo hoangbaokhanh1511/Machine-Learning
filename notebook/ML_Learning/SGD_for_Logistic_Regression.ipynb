{
 "cells": [
  {
   "cell_type": "markdown",
   "metadata": {},
   "source": [
    "### **STOCHASTIC GRADIENT DESCENT FOR LOGISTIC REGRESSION**"
   ]
  },
  {
   "cell_type": "code",
   "execution_count": 26,
   "metadata": {},
   "outputs": [],
   "source": [
    "import numpy as np\n",
    "import matplotlib.pyplot as plt"
   ]
  },
  {
   "cell_type": "code",
   "execution_count": 1,
   "metadata": {},
   "outputs": [
    {
     "name": "stdout",
     "output_type": "stream",
     "text": [
      "Epoch 1, Sample 1: w = [-0.05  1.  ], MSE = 0.3010299956639812, gradient = [0.5 0. ]\n",
      "Epoch 1, Sample 2: w = [-0.12211152  0.92788848], MSE = 0.5545751211263722, gradient = [0.72111518 0.72111518]\n",
      "Epoch 1, Sample 3: w = [-0.20709958  0.75791235], MSE = 0.8235633849088294, gradient = [0.84988067 1.69976134]\n",
      "Epoch 1, Sample 4: w = [-0.19586138  0.79162695], MSE = 0.051773910460082, gradient = [-0.11238202 -0.33714607]\n",
      "Epoch 1, Sample 5: w = [-0.19098441  0.81113484], MSE = 0.021714335899863466, gradient = [-0.04876973 -0.1950789 ]\n",
      "Epoch 1, Sample 6: w = [-0.18893054  0.82140422], MSE = 0.009012736807289874, gradient = [-0.02053874 -0.1026937 ]\n",
      "Epoch 2, Sample 1: w = [-0.23422127  0.82140422], MSE = 0.2619391298646254, gradient = [0.45290736 0.        ]\n",
      "Epoch 2, Sample 2: w = [-0.29849312  0.75713236], MSE = 0.446989496750494, gradient = [0.64271852 0.64271852]\n",
      "Epoch 2, Sample 3: w = [-0.37562498  0.60286865], MSE = 0.6407691081627832, gradient = [0.77131857 1.54263715]\n",
      "Epoch 2, Sample 4: w = [-0.35636152  0.66065904], MSE = 0.09292988824377442, gradient = [-0.19263464 -0.57790392]\n",
      "Epoch 2, Sample 5: w = [-0.34713491  0.69756547], MSE = 0.042041438662629924, gradient = [-0.09226609 -0.36906435]\n",
      "Epoch 2, Sample 6: w = [-0.34298895  0.71829527], MSE = 0.018389574162978487, gradient = [-0.04145959 -0.20729796]\n",
      "Epoch 3, Sample 1: w = [-0.38449731  0.71829527], MSE = 0.23290620799869424, gradient = [0.41508361 0.        ]\n",
      "Epoch 3, Sample 2: w = [-0.44276563  0.66002695], MSE = 0.3795341220906908, gradient = [0.58268319 0.58268319]\n",
      "Epoch 3, Sample 3: w = [-0.51339163  0.51877496], MSE = 0.5320368646316755, gradient = [0.70625997 1.41251994]\n",
      "Epoch 3, Sample 4: w = [-0.48733319  0.59695028], MSE = 0.1311114020653763, gradient = [-0.26058442 -0.78175326]\n",
      "Epoch 3, Sample 5: w = [-0.47432763  0.64897249], MSE = 0.06050846376943784, gradient = [-0.13005552 -0.52022208]\n",
      "Epoch 3, Sample 6: w = [-0.4684339   0.67844116], MSE = 0.02638145982299339, gradient = [-0.05893734 -0.29468672]\n",
      "Final weights: [-0.4684339   0.67844116]\n"
     ]
    }
   ],
   "source": [
    "import numpy as np\n",
    "\n",
    "def sigmoid(z):\n",
    "    return 1 / (1 + np.exp(-z))\n",
    "\n",
    "X = np.array([0, 1, 2, 3, 4, 5])  \n",
    "Y = np.array([0, 0, 0, 1, 1, 1])  \n",
    "N = X.shape[0]\n",
    "X = X = np.c_[np.ones(X.shape[0]), X]\n",
    "# Khởi tạo trọng số\n",
    "w = np.array([0.0, 1.0])  # w0 = 0, w1 = 1\n",
    "learning_rate = 0.1\n",
    "num_epochs = 3\n",
    "y_pred_list = []\n",
    "# SGD\n",
    "for epoch in range(num_epochs):\n",
    "    for i in range(X.shape[0]):\n",
    "        xi = X[i]\n",
    "        yi = Y[i]\n",
    "\n",
    "        # Dự đoán xác suất\n",
    "        y_pred = sigmoid(np.dot(xi, w))\n",
    "        y_pred_list.append(y_pred)\n",
    "        # Tính gradient\n",
    "        gradient = (y_pred - yi) * xi\n",
    "\n",
    "        # Cập nhật trọng số\n",
    "        w -= learning_rate * gradient\n",
    "        # Hàm mất mát:\n",
    "        J = -(yi * np.log10(y_pred) + (1 - yi) * np.log10(1 - y_pred))\n",
    "        # print(f\"yi = {yi}, y_pred = {y_pred}, J = {J}\")\n",
    "        print(f\"Epoch {epoch+1}, Sample {i+1}: w = {w}, MSE = {J}, gradient = {gradient}\")\n",
    "print(\"Final weights:\", w)\n"
   ]
  },
  {
   "cell_type": "code",
   "execution_count": null,
   "metadata": {},
   "outputs": [],
   "source": []
  }
 ],
 "metadata": {
  "kernelspec": {
   "display_name": "venv",
   "language": "python",
   "name": "python3"
  },
  "language_info": {
   "codemirror_mode": {
    "name": "ipython",
    "version": 3
   },
   "file_extension": ".py",
   "mimetype": "text/x-python",
   "name": "python",
   "nbconvert_exporter": "python",
   "pygments_lexer": "ipython3",
   "version": "3.10.6"
  }
 },
 "nbformat": 4,
 "nbformat_minor": 2
}
