{
 "cells": [
  {
   "cell_type": "markdown",
   "metadata": {},
   "source": [
    "## **LOGISTIC REGRESSION**"
   ]
  },
  {
   "cell_type": "markdown",
   "metadata": {},
   "source": [
    "Logistic regression is statistical model that in its basic from uses a logistic function to model a binary dependent variable, although many more complex extensions exit. In regression analysis, logistic regression (or logit regression) is estimating the paramaters of a logistic model (a form of binary regression). \n",
    "\n",
    "For example, spam dectection for emails, predicting if a customer will default in a loan, etc.\n",
    "\n",
    "<img src = \"https://static.javatpoint.com/tutorial/machine-learning/images/linear-regression-vs-logistic-regression.png\">"
   ]
  },
  {
   "cell_type": "markdown",
   "metadata": {},
   "source": [
    "## **Geting Started with Logistic Regression**"
   ]
  },
  {
   "cell_type": "code",
   "execution_count": null,
   "metadata": {},
   "outputs": [],
   "source": [
    "import numpy as np\n",
    "import matplotlib.pyp"
   ]
  }
 ],
 "metadata": {
  "kernelspec": {
   "display_name": "venv",
   "language": "python",
   "name": "python3"
  },
  "language_info": {
   "name": "python",
   "version": "3.10.6"
  }
 },
 "nbformat": 4,
 "nbformat_minor": 2
}
